{
 "metadata": {
  "language_info": {
   "codemirror_mode": {
    "name": "ipython",
    "version": 3
   },
   "file_extension": ".py",
   "mimetype": "text/x-python",
   "name": "python",
   "nbconvert_exporter": "python",
   "pygments_lexer": "ipython3",
   "version": "3.8.5"
  },
  "orig_nbformat": 4,
  "kernelspec": {
   "name": "python3",
   "display_name": "Python 3.8.5 64-bit"
  },
  "interpreter": {
   "hash": "31f2aee4e71d21fbe5cf8b01ff0e069b9275f58929596ceb00d14d90e3e16cd6"
  }
 },
 "nbformat": 4,
 "nbformat_minor": 2,
 "cells": [
  {
   "cell_type": "code",
   "execution_count": 1,
   "metadata": {},
   "outputs": [],
   "source": [
    "import numpy as np\n",
    "import matplotlib.pyplot as plt\n",
    "import pandas as pd\n",
    "import seaborn as sns\n",
    "import time\n",
    "from sklearn.tree import DecisionTreeClassifier\n",
    "from sklearn import tree\n",
    "from sklearn.model_selection import train_test_split, GridSearchCV\n",
    "from sklearn.ensemble import  RandomForestClassifier\n",
    "from sklearn.datasets import make_classification\n",
    "from sklearn.metrics import silhouette_score, confusion_matrix\n",
    "from sklearn.decomposition import PCA\n",
    "from RFBDoSBC.GetAndPrepareData import *\n",
    "from RFBDoSBC.modelPreparation import *\n",
    "from RFBDoSBC.modelEvaluation import *\n",
    "from RFBDoSBC.plotData import *\n",
    "from RFBDoSBC.utility import *\n"
   ]
  },
  {
   "cell_type": "code",
   "execution_count": 2,
   "metadata": {},
   "outputs": [],
   "source": [
    "\n",
    "rad_mom_gen = res_pT_iterator()\n"
   ]
  },
  {
   "cell_type": "code",
   "execution_count": null,
   "metadata": {},
   "outputs": [],
   "source": []
  },
  {
   "cell_type": "code",
   "execution_count": 15,
   "metadata": {},
   "outputs": [
    {
     "output_type": "stream",
     "name": "stdout",
     "text": [
      "JEB: Analyzing jets with R=0.3 and p_T hardmin=10\n"
     ]
    }
   ],
   "source": [
    "rad, ptm = next(rad_mom_gen)\n",
    "msg(\"Analyzing jets with R=%1.1f and p_T hardmin=%d\"%(rad, ptm))\n"
   ]
  },
  {
   "cell_type": "code",
   "execution_count": 16,
   "metadata": {},
   "outputs": [],
   "source": [
    "dataGen = DataPipelineBatch(f\"Analysis_Code/Generator Output/merged-ML-output-LOWSTATS-Rparam-{rad}-pThardmin-{ptm}.0.csv\", ptm, True, True)"
   ]
  },
  {
   "cell_type": "code",
   "execution_count": 17,
   "metadata": {},
   "outputs": [
    {
     "output_type": "stream",
     "name": "stdout",
     "text": [
      "Doing batch_num 0\n",
      "0.5694435105039369\n",
      "Doing batch_num 1\n",
      "0.5738693661406936\n",
      "Doing batch_num 2\n",
      "0.5735044533213803\n",
      "Doing batch_num 3\n",
      "0.57348022373877\n",
      "Doing batch_num 4\n",
      "0.5973294067005955\n",
      "Doing batch_num 5\n",
      "No more data in batch num: 5, trimming forest.\n"
     ]
    }
   ],
   "source": [
    "batch_num = 0\n",
    "\n",
    "while batch_num<12:\n",
    "    try:\n",
    "        print(f\"Doing batch_num {batch_num}\")\n",
    "        \n",
    "        train, test = next(dataGen)\n",
    "        X, Y = split_feat_label(train)\n",
    "        print(silhouette_score(X, Y))\n",
    "        batch_num+=1\n",
    "    except StopIteration:\n",
    "        print(f\"No more data in batch num: {batch_num}, trimming forest.\")\n",
    "        break"
   ]
  },
  {
   "cell_type": "code",
   "execution_count": null,
   "metadata": {},
   "outputs": [],
   "source": []
  },
  {
   "cell_type": "code",
   "execution_count": null,
   "metadata": {},
   "outputs": [],
   "source": []
  }
 ]
}